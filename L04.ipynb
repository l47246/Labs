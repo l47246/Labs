{
 "cells": [
  {
   "cell_type": "code",
   "execution_count": 24,
   "metadata": {},
   "outputs": [
    {
     "name": "stdout",
     "output_type": "stream",
     "text": [
      "[1000.0, 1100.0, 1210.0000000000002, 1331.0000000000005, 1464.1000000000004, 1610.5100000000004]\n"
     ]
    }
   ],
   "source": [
    "#1) Create a list of volume of sales considering the following assumptions:\n",
    "\n",
    "\n",
    "inicialValueSales =1000\n",
    "anualgrowthrate = 0.1\n",
    "numberofyears = 6\n",
    "\n",
    "VolSales = []\n",
    "#i = 0\n",
    "for i in range(0,6):\n",
    "    VolSales.append((inicialValueSales*(1+anualgrowthrate)**i))\n",
    "print(VolSales)    \n",
    "    "
   ]
  },
  {
   "cell_type": "code",
   "execution_count": 52,
   "metadata": {},
   "outputs": [
    {
     "name": "stdout",
     "output_type": "stream",
     "text": [
      "[1000.0, 1100.0, 1210.0000000000002, 1331.0000000000005, 1464.1000000000004, 1610.5100000000004]\n"
     ]
    }
   ],
   "source": [
    "inicialValueSales =1000\n",
    "anualgrowthrate = 0.1\n",
    "numberofyears = 6\n",
    "\n",
    "VolSales = [inicialValueSales*(1+anualgrowthrate)**i for i in range(0,6)]\n",
    "\n",
    "print(VolSales)"
   ]
  },
  {
   "cell_type": "code",
   "execution_count": null,
   "metadata": {},
   "outputs": [],
   "source": []
  },
  {
   "cell_type": "code",
   "execution_count": 23,
   "metadata": {},
   "outputs": [
    {
     "name": "stdout",
     "output_type": "stream",
     "text": [
      "[300.00000000000006, 330.00000000000006, 363.0000000000001, 399.3000000000002, 439.2300000000002, 483.1530000000002]\n"
     ]
    }
   ],
   "source": [
    "#2) Based on the previews list, create a list with costs knowing the profit margin:\n",
    "margin = 0.7\n",
    "\n",
    "Costs = []\n",
    "\n",
    "for i in VolSales:\n",
    "    Costs.append(i*(1-margin))\n",
    "\n",
    "print(Costs)\n"
   ]
  },
  {
   "cell_type": "code",
   "execution_count": null,
   "metadata": {},
   "outputs": [],
   "source": [
    "\n"
   ]
  },
  {
   "cell_type": "code",
   "execution_count": 43,
   "metadata": {},
   "outputs": [
    {
     "name": "stdout",
     "output_type": "stream",
     "text": [
      "[700.0, 770.0, 847.0000000000001, 931.7000000000003, 1024.8700000000001, 1127.3570000000002]\n"
     ]
    }
   ],
   "source": [
    "#3) Create a list with the profit based on the last 2 exercises (profit = sales - cost)\n",
    "\n",
    "Profit =[]\n",
    "\n",
    "\n",
    "for i in range(0, len(VolSales)):\n",
    "    Profit.append(VolSales[i] - Costs[i])\n",
    "\n",
    "print(Profit)\n",
    "\n"
   ]
  },
  {
   "cell_type": "code",
   "execution_count": null,
   "metadata": {},
   "outputs": [],
   "source": []
  },
  {
   "cell_type": "code",
   "execution_count": null,
   "metadata": {},
   "outputs": [],
   "source": []
  },
  {
   "cell_type": "code",
   "execution_count": null,
   "metadata": {},
   "outputs": [],
   "source": [
    "Profit =[]"
   ]
  },
  {
   "cell_type": "code",
   "execution_count": 44,
   "metadata": {},
   "outputs": [
    {
     "name": "stdout",
     "output_type": "stream",
     "text": [
      "[500.0, 600.0, 710.0000000000002, 831.0000000000005, 964.1000000000004, 1110.5100000000004]\n"
     ]
    }
   ],
   "source": [
    "#4) Calculete a newProfit suposing 500 of fixed costs\n",
    "\n",
    "newProfit =[]\n",
    "\n",
    "\n",
    "for i in range(0, len(VolSales)):\n",
    "    newProfit.append(VolSales[i] - 500)\n",
    "\n",
    "print(newProfit)\n"
   ]
  },
  {
   "cell_type": "code",
   "execution_count": 22,
   "metadata": {},
   "outputs": [
    {
     "name": "stdout",
     "output_type": "stream",
     "text": [
      "[965, 533, 1573, 365, 1179, 1887]\n"
     ]
    }
   ],
   "source": [
    "#5) Create a newSales list with random generated values between 200 and 2000. Corresponding to volume of sales during a certainn numberOfYears.\n",
    "\n",
    "\n",
    "\n",
    "import random\n",
    "\n",
    "newSales = [random.randint(200,2000) for x in range(0,6)]\n",
    "\n",
    "print(newSales)\n",
    "\n",
    "\n"
   ]
  },
  {
   "cell_type": "code",
   "execution_count": 27,
   "metadata": {},
   "outputs": [
    {
     "name": "stdout",
     "output_type": "stream",
     "text": [
      "[175.5, -126.90000000000003, 601.0999999999999, -244.50000000000003, 325.29999999999995, 820.8999999999999]\n"
     ]
    }
   ],
   "source": [
    "#6) Create a new list with profits (newProfit). With margin 70% with fixed costs stated previously.\n",
    "\n",
    "NewProfit = []\n",
    "                     \n",
    "\n",
    "for i in range(0,len(newSales)):\n",
    "    NewProfit.append(newSales[i]*0.7 - 500)\n",
    "   \n",
    "print(NewProfit)    \n",
    "    \n"
   ]
  },
  {
   "cell_type": "code",
   "execution_count": 40,
   "metadata": {},
   "outputs": [
    {
     "name": "stdout",
     "output_type": "stream",
     "text": [
      "66.66666666666666%\n"
     ]
    }
   ],
   "source": [
    "#7) What is the percentage of years having profits in the total?\n",
    "perc = []\n",
    "for i in range(0,len(NewProfit)):\n",
    "    if NewProfit[i] > 0:\n",
    "        perc.append(i)\n",
    "x = len(perc)/len(NewProfit)*100\n",
    "print(str(x)+\"%\")"
   ]
  },
  {
   "cell_type": "code",
   "execution_count": 45,
   "metadata": {},
   "outputs": [
    {
     "name": "stdout",
     "output_type": "stream",
     "text": [
      "66.66666666666666%\n"
     ]
    }
   ],
   "source": [
    "P = 0\n",
    "for i in (NewProfit):\n",
    "    if i > 0:\n",
    "        P +=1/len(NewProfit)*100\n",
    "print(str(P)+\"%\")     "
   ]
  },
  {
   "cell_type": "code",
   "execution_count": 47,
   "metadata": {},
   "outputs": [
    {
     "data": {
      "text/plain": [
       "Text(0.5, 0, 'numberofyears')"
      ]
     },
     "execution_count": 47,
     "metadata": {},
     "output_type": "execute_result"
    },
    {
     "data": {
      "image/png": "[encoded data removed]",
      "text/plain": [
       "<Figure size 432x288 with 1 Axes>"
      ]
     },
     "metadata": {
      "needs_background": "light"
     },
     "output_type": "display_data"
    }
   ],
   "source": [
    "import matplotlib.pyplot as plt\n",
    "plt.plot(VolSales)\n",
    "plt.plot(newSales)\n",
    "plt.ylabel('VolSales')\n",
    "plt.xlabel('numberofyears')"
   ]
  },
  {
   "cell_type": "code",
   "execution_count": null,
   "metadata": {},
   "outputs": [],
   "source": []
  },
  {
   "cell_type": "code",
   "execution_count": null,
   "metadata": {},
   "outputs": [],
   "source": []
  }
 ],
 "metadata": {
  "kernelspec": {
   "display_name": "Python 3",
   "language": "python",
   "name": "python3"
  },
  "language_info": {
   "codemirror_mode": {
    "name": "ipython",
    "version": 3
   },
   "file_extension": ".py",
   "mimetype": "text/x-python",
   "name": "python",
   "nbconvert_exporter": "python",
   "pygments_lexer": "ipython3",
   "version": "3.7.3"
  }
 },
 "nbformat": 4,
 "nbformat_minor": 2
}
