{
 "cells": [
  {
   "cell_type": "code",
   "execution_count": 23,
   "metadata": {},
   "outputs": [
    {
     "data": {
      "text/plain": [
       "True"
      ]
     },
     "execution_count": 23,
     "metadata": {},
     "output_type": "execute_result"
    }
   ],
   "source": [
    "#1) Verify if a value is integer\"\n",
    "n = 1\n",
    "\n",
    "n - int(n)==0\n"
   ]
  },
  {
   "cell_type": "code",
   "execution_count": 25,
   "metadata": {},
   "outputs": [
    {
     "data": {
      "text/plain": [
       "False"
      ]
     },
     "execution_count": 25,
     "metadata": {},
     "output_type": "execute_result"
    }
   ],
   "source": [
    "#2) Verify if a value is even\n",
    "n = 5\n",
    "\n",
    "n/2 == int(n/2)"
   ]
  },
  {
   "cell_type": "code",
   "execution_count": 26,
   "metadata": {},
   "outputs": [
    {
     "data": {
      "text/plain": [
       "False"
      ]
     },
     "execution_count": 26,
     "metadata": {},
     "output_type": "execute_result"
    }
   ],
   "source": [
    "#3) Insert two numbers. Is the first is bigger than the second?\n",
    "n = 1\n",
    "\n",
    "k = 4\n",
    "\n",
    "n > k\n"
   ]
  },
  {
   "cell_type": "code",
   "execution_count": 27,
   "metadata": {
    "scrolled": true
   },
   "outputs": [
    {
     "data": {
      "text/plain": [
       "False"
      ]
     },
     "execution_count": 27,
     "metadata": {},
     "output_type": "execute_result"
    }
   ],
   "source": [
    "#4) Verify if one value is multiple of another\n",
    "n = 5\n",
    " \n",
    "k = 2\n",
    "\n",
    "n%k == 0"
   ]
  },
  {
   "cell_type": "code",
   "execution_count": 28,
   "metadata": {},
   "outputs": [
    {
     "name": "stdout",
     "output_type": "stream",
     "text": [
      "18.0\n"
     ]
    }
   ],
   "source": [
    "#5) Calculate the interest earn by an investor that invested a capital of 200 during 3 years with an interest rate of 3%. (I=P*R*T)\n",
    "\n",
    "PV = 200\n",
    "\n",
    "R= 0.03\n",
    "\n",
    "T = 3\n",
    "\n",
    "I= PV*R*T\n",
    "\n",
    "print(I)\n"
   ]
  },
  {
   "cell_type": "code",
   "execution_count": 29,
   "metadata": {},
   "outputs": [],
   "source": [
    "#6) Capital that an investor obtained after investing a capital of 200 during 3 years with an interest rate of 3%. (Compound interest)\n",
    "PV = 200\n",
    "\n",
    "\n",
    "R = 0.03\n",
    "\n",
    "T = 3\n",
    "\n",
    "FV = PV*(1+R)**(T)\n",
    "\n"
   ]
  },
  {
   "cell_type": "code",
   "execution_count": 30,
   "metadata": {},
   "outputs": [
    {
     "name": "stdout",
     "output_type": "stream",
     "text": [
      "28.089010954714272\n"
     ]
    }
   ],
   "source": [
    "#7) Calculate your BMI (Body Mass Index)\n",
    "\n",
    "mass = 90\n",
    "\n",
    "height = 1.79\n",
    "\n",
    "BMI = mass/height**2\n",
    "\n",
    "print(BMI)"
   ]
  },
  {
   "cell_type": "code",
   "execution_count": 31,
   "metadata": {},
   "outputs": [
    {
     "name": "stdout",
     "output_type": "stream",
     "text": [
      "1.618033988749895\n"
     ]
    }
   ],
   "source": [
    "#8) Calcule the Golden ration:\n",
    "gr = (1 + 5**(1/2))/2\n",
    "\n",
    "print(gr)"
   ]
  },
  {
   "cell_type": "code",
   "execution_count": 32,
   "metadata": {},
   "outputs": [
    {
     "name": "stdout",
     "output_type": "stream",
     "text": [
      "3139.440301519393\n"
     ]
    }
   ],
   "source": [
    "#9) Calculete the NPV (Net present value) of an investment, considering an initial investment of 10000, the following Cashflows 2000,3000, 4000, 4000 and 5000 and a discount rate of 10%.\n",
    "\n",
    "FV1 = 2000\n",
    "\n",
    "FV2 = 3000\n",
    "\n",
    "FV3 = 4000\n",
    "\n",
    "FV4 = 4000\n",
    "\n",
    "FV5 = 5000\n",
    "\n",
    "I = 10000\n",
    "\n",
    "r = 0.1\n",
    "\n",
    "NPV = FV1/(1+r) + FV2/(1+r)**2 + FV3/(1+r)**3 + FV4/(1+r)**4 + FV5/(1+r)**5 - I\n",
    "\n",
    "print(NPV)"
   ]
  },
  {
   "cell_type": "code",
   "execution_count": 33,
   "metadata": {},
   "outputs": [
    {
     "name": "stdout",
     "output_type": "stream",
     "text": [
      "what's your name:Pedro\n",
      "what's your age:26\n",
      "1993\n"
     ]
    }
   ],
   "source": [
    "#10) Ask the user to insert name and age. Calculate the the birth. Print a result saying the 'this person was born in'\n",
    "j = input(\"what's your name:\")\n",
    "a = input(\"what's your age:\")\n",
    "BirthYear =  2019 - int(a)\n",
    "\n",
    "print(BirthYear)"
   ]
  },
  {
   "cell_type": "code",
   "execution_count": 34,
   "metadata": {},
   "outputs": [
    {
     "name": "stdout",
     "output_type": "stream",
     "text": [
      "what's your name:Pedro\n",
      "what's your age:26\n",
      "1993\n"
     ]
    }
   ],
   "source": [
    "#11) Ask the user to insert forenames, surnames. create a new variable (name) with your complete name.\n",
    "#1. Solve the problem without using modules and libraries\n",
    "from datetime import date\n",
    "j = input(\"what's your name:\")\n",
    "a = input(\"what's your age:\")\n",
    "today = date.today()\n",
    "\n",
    "BirthYear = today.year - int(a)\n",
    "print(BirthYear)"
   ]
  },
  {
   "cell_type": "code",
   "execution_count": 35,
   "metadata": {},
   "outputs": [
    {
     "name": "stdout",
     "output_type": "stream",
     "text": [
      "what's your forenames:Pedro Gabriel \n",
      "what's your surnames:de Oliveira Matias\n",
      "Pedro Gabriel  de Oliveira Matias\n"
     ]
    }
   ],
   "source": [
    "\"\"\"\"\n",
    "2. Solve the problem using the date library from module datetime, as fallow:\n",
    "from datetime import date\n",
    "today = date.today()\n",
    "today.year\n",
    "\n",
    "\"\"\"\"\"\n",
    "forenames = input(\"what's your forenames:\")\n",
    "surnames = input(\"what's your surnames:\")\n",
    "\n",
    "name = forenames + \" \" + surnames\n",
    "\n",
    "nameBig = name.upper()\n",
    "nameTitle = name.title()\n",
    "nameSmall = name.lower()\n",
    "nameCapitalized = name.capitalize()\n",
    "\n",
    "print(name)\n"
   ]
  },
  {
   "cell_type": "code",
   "execution_count": 36,
   "metadata": {},
   "outputs": [
    {
     "data": {
      "text/plain": [
       "13"
      ]
     },
     "execution_count": 36,
     "metadata": {},
     "output_type": "execute_result"
    }
   ],
   "source": [
    "#12) Use the follwoing method to show where in which carater appears the firs \"da\"\n",
    "string = \"Este carro é da Joana e da Maria\"\n",
    "\n",
    "string.find(\"da\",0,len(string))"
   ]
  },
  {
   "cell_type": "code",
   "execution_count": null,
   "metadata": {},
   "outputs": [],
   "source": []
  },
  {
   "cell_type": "code",
   "execution_count": null,
   "metadata": {},
   "outputs": [],
   "source": []
  },
  {
   "cell_type": "code",
   "execution_count": null,
   "metadata": {},
   "outputs": [],
   "source": []
  },
  {
   "cell_type": "code",
   "execution_count": null,
   "metadata": {},
   "outputs": [],
   "source": []
  },
  {
   "cell_type": "code",
   "execution_count": null,
   "metadata": {},
   "outputs": [],
   "source": []
  },
  {
   "cell_type": "code",
   "execution_count": null,
   "metadata": {},
   "outputs": [],
   "source": []
  }
 ],
 "metadata": {
  "kernelspec": {
   "display_name": "Python 3",
   "language": "python",
   "name": "python3"
  },
  "language_info": {
   "codemirror_mode": {
    "name": "ipython",
    "version": 3
   },
   "file_extension": ".py",
   "mimetype": "text/x-python",
   "name": "python",
   "nbconvert_exporter": "python",
   "pygments_lexer": "ipython3",
   "version": "3.7.3"
  }
 },
 "nbformat": 4,
 "nbformat_minor": 2
}
